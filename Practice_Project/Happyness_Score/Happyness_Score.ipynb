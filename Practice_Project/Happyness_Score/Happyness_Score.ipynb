{
 "cells": [
  {
   "cell_type": "markdown",
   "metadata": {},
   "source": [
    "# -*- coding: utf-8 -*-\n",
    "\"\"\"\n",
    "Created on Tue Feb 26 16:00:07 2021"
   ]
  },
  {
   "cell_type": "markdown",
   "metadata": {},
   "source": [
    "@author: Kuldeep Kumar\n",
    "\"\"\""
   ]
  },
  {
   "cell_type": "code",
   "execution_count": 2,
   "metadata": {},
   "outputs": [],
   "source": [
    "from matplotlib import pyplot\n",
    "import warnings\n",
    "warnings.filterwarnings(\"ignore\")\n",
    "import pandas as pd\n",
    "from sklearn.preprocessing import StandardScaler\n",
    "from sklearn.model_selection import train_test_split, KFold\n",
    "from sklearn.model_selection import cross_val_score\n",
    "from sklearn.linear_model import LinearRegression\n",
    "from sklearn.linear_model import Lasso\n",
    "from sklearn.linear_model import ElasticNet\n",
    "from sklearn.tree import DecisionTreeRegressor\n",
    "from sklearn.neighbors import KNeighborsRegressor\n",
    "from sklearn.svm import SVR\n",
    "#from xgboost import XGBRegressor\n",
    "from sklearn.metrics import mean_squared_error"
   ]
  },
  {
   "cell_type": "markdown",
   "metadata": {},
   "source": [
    "READ THE CSV FILES"
   ]
  },
  {
   "cell_type": "code",
   "execution_count": 3,
   "metadata": {},
   "outputs": [],
   "source": [
    "dataframe = pd.read_csv('happiness_score_dataset.csv')"
   ]
  },
  {
   "cell_type": "code",
   "execution_count": 4,
   "metadata": {},
   "outputs": [
    {
     "name": "stdout",
     "output_type": "stream",
     "text": [
      "Look up into data        Country                     Region  Happiness Rank  Happiness Score  \\\n",
      "0  Switzerland             Western Europe               1            7.587   \n",
      "1      Iceland             Western Europe               2            7.561   \n",
      "2      Denmark             Western Europe               3            7.527   \n",
      "3       Norway             Western Europe               4            7.522   \n",
      "4       Canada              North America               5            7.427   \n",
      "5      Finland             Western Europe               6            7.406   \n",
      "6  Netherlands             Western Europe               7            7.378   \n",
      "7       Sweden             Western Europe               8            7.364   \n",
      "8  New Zealand  Australia and New Zealand               9            7.286   \n",
      "9    Australia  Australia and New Zealand              10            7.284   \n",
      "\n",
      "   Standard Error  Economy (GDP per Capita)   Family  \\\n",
      "0         0.03411                   1.39651  1.34951   \n",
      "1         0.04884                   1.30232  1.40223   \n",
      "2         0.03328                   1.32548  1.36058   \n",
      "3         0.03880                   1.45900  1.33095   \n",
      "4         0.03553                   1.32629  1.32261   \n",
      "5         0.03140                   1.29025  1.31826   \n",
      "6         0.02799                   1.32944  1.28017   \n",
      "7         0.03157                   1.33171  1.28907   \n",
      "8         0.03371                   1.25018  1.31967   \n",
      "9         0.04083                   1.33358  1.30923   \n",
      "\n",
      "   Health (Life Expectancy)  Freedom  Trust (Government Corruption)  \\\n",
      "0                   0.94143  0.66557                        0.41978   \n",
      "1                   0.94784  0.62877                        0.14145   \n",
      "2                   0.87464  0.64938                        0.48357   \n",
      "3                   0.88521  0.66973                        0.36503   \n",
      "4                   0.90563  0.63297                        0.32957   \n",
      "5                   0.88911  0.64169                        0.41372   \n",
      "6                   0.89284  0.61576                        0.31814   \n",
      "7                   0.91087  0.65980                        0.43844   \n",
      "8                   0.90837  0.63938                        0.42922   \n",
      "9                   0.93156  0.65124                        0.35637   \n",
      "\n",
      "   Generosity  Dystopia Residual  \n",
      "0     0.29678            2.51738  \n",
      "1     0.43630            2.70201  \n",
      "2     0.34139            2.49204  \n",
      "3     0.34699            2.46531  \n",
      "4     0.45811            2.45176  \n",
      "5     0.23351            2.61955  \n",
      "6     0.47610            2.46570  \n",
      "7     0.36262            2.37119  \n",
      "8     0.47501            2.26425  \n",
      "9     0.43562            2.26646  \n"
     ]
    }
   ],
   "source": [
    "print(\"Look up into data\",dataframe.head(10))"
   ]
  },
  {
   "cell_type": "markdown",
   "metadata": {},
   "source": [
    "create the bar chart of top 10 Countries"
   ]
  },
  {
   "cell_type": "code",
   "execution_count": 5,
   "metadata": {},
   "outputs": [],
   "source": [
    "dataframe_top10 = dataframe.nlargest(10,['Happiness Score'])"
   ]
  },
  {
   "cell_type": "code",
   "execution_count": 6,
   "metadata": {},
   "outputs": [
    {
     "name": "stdout",
     "output_type": "stream",
     "text": [
      "       Country                     Region  Happiness Rank  Happiness Score  \\\n",
      "0  Switzerland             Western Europe               1            7.587   \n",
      "1      Iceland             Western Europe               2            7.561   \n",
      "2      Denmark             Western Europe               3            7.527   \n",
      "3       Norway             Western Europe               4            7.522   \n",
      "4       Canada              North America               5            7.427   \n",
      "5      Finland             Western Europe               6            7.406   \n",
      "6  Netherlands             Western Europe               7            7.378   \n",
      "7       Sweden             Western Europe               8            7.364   \n",
      "8  New Zealand  Australia and New Zealand               9            7.286   \n",
      "9    Australia  Australia and New Zealand              10            7.284   \n",
      "\n",
      "   Standard Error  Economy (GDP per Capita)   Family  \\\n",
      "0         0.03411                   1.39651  1.34951   \n",
      "1         0.04884                   1.30232  1.40223   \n",
      "2         0.03328                   1.32548  1.36058   \n",
      "3         0.03880                   1.45900  1.33095   \n",
      "4         0.03553                   1.32629  1.32261   \n",
      "5         0.03140                   1.29025  1.31826   \n",
      "6         0.02799                   1.32944  1.28017   \n",
      "7         0.03157                   1.33171  1.28907   \n",
      "8         0.03371                   1.25018  1.31967   \n",
      "9         0.04083                   1.33358  1.30923   \n",
      "\n",
      "   Health (Life Expectancy)  Freedom  Trust (Government Corruption)  \\\n",
      "0                   0.94143  0.66557                        0.41978   \n",
      "1                   0.94784  0.62877                        0.14145   \n",
      "2                   0.87464  0.64938                        0.48357   \n",
      "3                   0.88521  0.66973                        0.36503   \n",
      "4                   0.90563  0.63297                        0.32957   \n",
      "5                   0.88911  0.64169                        0.41372   \n",
      "6                   0.89284  0.61576                        0.31814   \n",
      "7                   0.91087  0.65980                        0.43844   \n",
      "8                   0.90837  0.63938                        0.42922   \n",
      "9                   0.93156  0.65124                        0.35637   \n",
      "\n",
      "   Generosity  Dystopia Residual  \n",
      "0     0.29678            2.51738  \n",
      "1     0.43630            2.70201  \n",
      "2     0.34139            2.49204  \n",
      "3     0.34699            2.46531  \n",
      "4     0.45811            2.45176  \n",
      "5     0.23351            2.61955  \n",
      "6     0.47610            2.46570  \n",
      "7     0.36262            2.37119  \n",
      "8     0.47501            2.26425  \n",
      "9     0.43562            2.26646  \n"
     ]
    }
   ],
   "source": [
    "print(dataframe_top10)"
   ]
  },
  {
   "cell_type": "markdown",
   "metadata": {},
   "source": [
    "ean of Hapiness score to get the thresold"
   ]
  },
  {
   "cell_type": "code",
   "execution_count": 7,
   "metadata": {},
   "outputs": [
    {
     "name": "stdout",
     "output_type": "stream",
     "text": [
      "5.3757341772151905\n"
     ]
    }
   ],
   "source": [
    "happyness_score_mean=dataframe['Happiness Score'].mean()\n",
    "print(happyness_score_mean)"
   ]
  },
  {
   "cell_type": "code",
   "execution_count": 8,
   "metadata": {},
   "outputs": [],
   "source": [
    "dataframe=dataframe.drop(['Country','Region'],axis=1)"
   ]
  },
  {
   "cell_type": "code",
   "execution_count": 9,
   "metadata": {},
   "outputs": [
    {
     "name": "stdout",
     "output_type": "stream",
     "text": [
      "Corelation between data                                Happiness Rank  Happiness Score  \\\n",
      "Happiness Rank                       1.000000        -0.992105   \n",
      "Happiness Score                     -0.992105         1.000000   \n",
      "Standard Error                       0.158516        -0.177254   \n",
      "Economy (GDP per Capita)            -0.785267         0.780966   \n",
      "Family                              -0.733644         0.740605   \n",
      "Health (Life Expectancy)            -0.735613         0.724200   \n",
      "Freedom                             -0.556886         0.568211   \n",
      "Trust (Government Corruption)       -0.372315         0.395199   \n",
      "Generosity                          -0.160142         0.180319   \n",
      "Dystopia Residual                   -0.521999         0.530474   \n",
      "\n",
      "                               Standard Error  Economy (GDP per Capita)  \\\n",
      "Happiness Rank                       0.158516                 -0.785267   \n",
      "Happiness Score                     -0.177254                  0.780966   \n",
      "Standard Error                       1.000000                 -0.217651   \n",
      "Economy (GDP per Capita)            -0.217651                  1.000000   \n",
      "Family                              -0.120728                  0.645299   \n",
      "Health (Life Expectancy)            -0.310287                  0.816478   \n",
      "Freedom                             -0.129773                  0.370300   \n",
      "Trust (Government Corruption)       -0.178325                  0.307885   \n",
      "Generosity                          -0.088439                 -0.010465   \n",
      "Dystopia Residual                    0.083981                  0.040059   \n",
      "\n",
      "                                 Family  Health (Life Expectancy)   Freedom  \\\n",
      "Happiness Rank                -0.733644                 -0.735613 -0.556886   \n",
      "Happiness Score                0.740605                  0.724200  0.568211   \n",
      "Standard Error                -0.120728                 -0.310287 -0.129773   \n",
      "Economy (GDP per Capita)       0.645299                  0.816478  0.370300   \n",
      "Family                         1.000000                  0.531104  0.441518   \n",
      "Health (Life Expectancy)       0.531104                  1.000000  0.360477   \n",
      "Freedom                        0.441518                  0.360477  1.000000   \n",
      "Trust (Government Corruption)  0.205605                  0.248335  0.493524   \n",
      "Generosity                     0.087513                  0.108335  0.373916   \n",
      "Dystopia Residual              0.148117                  0.018979  0.062783   \n",
      "\n",
      "                               Trust (Government Corruption)  Generosity  \\\n",
      "Happiness Rank                                     -0.372315   -0.160142   \n",
      "Happiness Score                                     0.395199    0.180319   \n",
      "Standard Error                                     -0.178325   -0.088439   \n",
      "Economy (GDP per Capita)                            0.307885   -0.010465   \n",
      "Family                                              0.205605    0.087513   \n",
      "Health (Life Expectancy)                            0.248335    0.108335   \n",
      "Freedom                                             0.493524    0.373916   \n",
      "Trust (Government Corruption)                       1.000000    0.276123   \n",
      "Generosity                                          0.276123    1.000000   \n",
      "Dystopia Residual                                  -0.033105   -0.101301   \n",
      "\n",
      "                               Dystopia Residual  \n",
      "Happiness Rank                         -0.521999  \n",
      "Happiness Score                         0.530474  \n",
      "Standard Error                          0.083981  \n",
      "Economy (GDP per Capita)                0.040059  \n",
      "Family                                  0.148117  \n",
      "Health (Life Expectancy)                0.018979  \n",
      "Freedom                                 0.062783  \n",
      "Trust (Government Corruption)          -0.033105  \n",
      "Generosity                             -0.101301  \n",
      "Dystopia Residual                       1.000000  \n"
     ]
    }
   ],
   "source": [
    "print(\"Corelation between data\",dataframe.corr())"
   ]
  },
  {
   "cell_type": "code",
   "execution_count": 10,
   "metadata": {},
   "outputs": [],
   "source": [
    "y=dataframe[[\"Happiness Score\"]]\n",
    "X=dataframe.drop([\"Happiness Score\"],axis=1)"
   ]
  },
  {
   "cell_type": "code",
   "execution_count": 11,
   "metadata": {},
   "outputs": [
    {
     "name": "stdout",
     "output_type": "stream",
     "text": [
      "Lookup in to data    Happiness Score\n",
      "0            7.587\n",
      "1            7.561\n",
      "2            7.527\n",
      "3            7.522\n",
      "4            7.427\n",
      "5            7.406\n",
      "6            7.378\n",
      "7            7.364\n",
      "8            7.286\n",
      "9            7.284\n",
      "Null value in Label Happiness Score    False\n",
      "dtype: bool\n",
      "Null value in X Happiness Rank                   False\n",
      "Standard Error                   False\n",
      "Economy (GDP per Capita)         False\n",
      "Family                           False\n",
      "Health (Life Expectancy)         False\n",
      "Freedom                          False\n",
      "Trust (Government Corruption)    False\n",
      "Generosity                       False\n",
      "Dystopia Residual                False\n",
      "dtype: bool\n"
     ]
    }
   ],
   "source": [
    "print(\"Lookup in to data\",y.head(10))\n",
    "#Null value for label\n",
    "print(\"Null value in Label\",y.isna().any())\n",
    "print(\"Null value in X\",X.isna().any())"
   ]
  },
  {
   "cell_type": "markdown",
   "metadata": {},
   "source": [
    "Scaling of the Data"
   ]
  },
  {
   "cell_type": "code",
   "execution_count": 12,
   "metadata": {},
   "outputs": [
    {
     "name": "stdout",
     "output_type": "stream",
     "text": [
      "Look up into data after scaling for X    Happiness Rank  Standard Error  Economy (GDP per Capita)    Family  \\\n",
      "0       -1.721000       -0.805926                  1.369621  1.320281   \n",
      "1       -1.699075        0.055889                  1.135226  1.514458   \n",
      "2       -1.677149       -0.854487                  1.192861  1.361054   \n",
      "3       -1.655224       -0.531526                  1.525130  1.251922   \n",
      "4       -1.633299       -0.722845                  1.194876  1.221204   \n",
      "\n",
      "   Health (Life Expectancy)   Freedom  Trust (Government Corruption)  \\\n",
      "0                  1.263408  1.577438                       2.309652   \n",
      "1                  1.289434  1.332456                      -0.016480   \n",
      "2                  0.992229  1.469659                       2.842774   \n",
      "3                  1.035145  1.605131                       1.852081   \n",
      "4                  1.118054  1.360416                       1.555725   \n",
      "\n",
      "   Generosity  Dystopia Residual  \n",
      "0    0.471040           0.758258  \n",
      "1    1.575856           1.092857  \n",
      "2    0.824293           0.712335  \n",
      "3    0.868638           0.663893  \n",
      "4    1.748563           0.639337  \n"
     ]
    }
   ],
   "source": [
    "scaler1=StandardScaler()\n",
    "X=pd.DataFrame(scaler1.fit_transform(X),columns=X.columns)\n",
    "print(\"Look up into data after scaling for X\",X.head())"
   ]
  },
  {
   "cell_type": "code",
   "execution_count": 13,
   "metadata": {},
   "outputs": [
    {
     "name": "stdout",
     "output_type": "stream",
     "text": [
      "Look up into data after scaling for y    Happiness Score\n",
      "0         1.937360\n",
      "1         1.914581\n",
      "2         1.884792\n",
      "3         1.880411\n",
      "4         1.797179\n"
     ]
    }
   ],
   "source": [
    "scaler2=StandardScaler()\n",
    "y=pd.DataFrame(scaler2.fit_transform(y),columns=y.columns)\n",
    "print(\"Look up into data after scaling for y\",y.head())"
   ]
  },
  {
   "cell_type": "code",
   "execution_count": 14,
   "metadata": {},
   "outputs": [
    {
     "name": "stdout",
     "output_type": "stream",
     "text": [
      "Shape of train data (110, 9)\n",
      "Shape of test data  (48, 9)\n"
     ]
    }
   ],
   "source": [
    "X_train,X_test,y_train,y_test=train_test_split(X,y,test_size=0.30,random_state=22)\n",
    "print(\"Shape of train data\",X_train.shape)\n",
    "print(\"Shape of test data \",X_test.shape)"
   ]
  },
  {
   "cell_type": "markdown",
   "metadata": {},
   "source": [
    "Test options and evaluation metric"
   ]
  },
  {
   "cell_type": "code",
   "execution_count": 15,
   "metadata": {},
   "outputs": [],
   "source": [
    "num_folds = 10\n",
    "seed = 7\n",
    "scoring = 'neg_mean_squared_error'"
   ]
  },
  {
   "cell_type": "markdown",
   "metadata": {},
   "source": [
    "Spot-Check Algorithms"
   ]
  },
  {
   "cell_type": "code",
   "execution_count": 17,
   "metadata": {},
   "outputs": [],
   "source": [
    "models = []\n",
    "models.append(('LR', LinearRegression()))\n",
    "models.append(('LASSO', Lasso()))\n",
    "models.append(('EN', ElasticNet()))\n",
    "models.append(('KNN', KNeighborsRegressor()))\n",
    "models.append(('CART', DecisionTreeRegressor()))\n",
    "models.append(('SVR', SVR()))\n",
    "#models.append(('XGB', XGBRegressor()))"
   ]
  },
  {
   "cell_type": "markdown",
   "metadata": {},
   "source": [
    "evaluate each model in turn"
   ]
  },
  {
   "cell_type": "code",
   "execution_count": 18,
   "metadata": {},
   "outputs": [
    {
     "name": "stdout",
     "output_type": "stream",
     "text": [
      "LR: -0.000000 (0.000000)\n",
      "LASSO: -1.017395 (0.450396)\n",
      "EN: -0.477101 (0.256295)\n",
      "KNN: -0.081843 (0.047432)\n",
      "CART: -0.012242 (0.012983)\n",
      "SVR: -0.064700 (0.093131)\n"
     ]
    }
   ],
   "source": [
    "results = []\n",
    "names = []\n",
    "for name, model in models:\n",
    "    kfold = KFold(n_splits=num_folds, random_state=seed,shuffle=True)\n",
    "    cv_results = cross_val_score(model, X_train, y_train, cv=kfold, scoring=scoring)\n",
    "    results.append(cv_results)\n",
    "    names.append(name)\n",
    "    msg = \"%s: %f (%f)\" % (name, cv_results.mean(), cv_results.std())\n",
    "    print(msg)\n",
    "#Out put is getting best for LinearRegression\n",
    "# LR: -0.000000 (0.000000)\n",
    "# LASSO: -1.017395 (0.450396)\n",
    "# EN: -0.477101 (0.256295)\n",
    "# KNN: -0.081843 (0.047432)\n",
    "# CART: -0.010387 (0.011038)\n",
    "# SVR: -0.064700 (0.093131)\n",
    "# XGB: -0.005038 (0.004796)"
   ]
  },
  {
   "cell_type": "markdown",
   "metadata": {},
   "source": [
    "Compare Algorithms"
   ]
  },
  {
   "cell_type": "code",
   "execution_count": 19,
   "metadata": {},
   "outputs": [
    {
     "data": {
      "image/png": "[encoded data removed]",
      "text/plain": [
       "<Figure size 432x288 with 1 Axes>"
      ]
     },
     "metadata": {
      "needs_background": "light"
     },
     "output_type": "display_data"
    }
   ],
   "source": [
    "fig = pyplot.figure()\n",
    "fig.suptitle('Algorithm Comparison')\n",
    "ax = fig.add_subplot(111)\n",
    "pyplot.boxplot(results)\n",
    "ax.set_xticklabels(names)\n",
    "pyplot.show()"
   ]
  },
  {
   "cell_type": "code",
   "execution_count": 20,
   "metadata": {},
   "outputs": [
    {
     "data": {
      "text/plain": [
       "LinearRegression()"
      ]
     },
     "execution_count": 20,
     "metadata": {},
     "output_type": "execute_result"
    }
   ],
   "source": [
    "model = LinearRegression()\n",
    "model.fit(X_train, y_train)"
   ]
  },
  {
   "cell_type": "code",
   "execution_count": 21,
   "metadata": {},
   "outputs": [
    {
     "name": "stdout",
     "output_type": "stream",
     "text": [
      "5.544688737356209e-08\n"
     ]
    }
   ],
   "source": [
    "predictions = model.predict(X_test)\n",
    "print(mean_squared_error(y_test, predictions))"
   ]
  },
  {
   "cell_type": "code",
   "execution_count": 22,
   "metadata": {},
   "outputs": [],
   "source": [
    "final_prediction_res=pd.DataFrame(predictions,columns=['Happyness_Score'])\n",
    "final_prediction_res.to_excel(\"Final_Score.xlsx\",index=False)"
   ]
  },
  {
   "cell_type": "code",
   "execution_count": null,
   "metadata": {},
   "outputs": [],
   "source": []
  }
 ],
 "metadata": {
  "kernelspec": {
   "display_name": "Python 3",
   "language": "python",
   "name": "python3"
  },
  "language_info": {
   "codemirror_mode": {
    "name": "ipython",
    "version": 3
   },
   "file_extension": ".py",
   "mimetype": "text/x-python",
   "name": "python",
   "nbconvert_exporter": "python",
   "pygments_lexer": "ipython3",
   "version": "3.8.5"
  }
 },
 "nbformat": 4,
 "nbformat_minor": 2
}
