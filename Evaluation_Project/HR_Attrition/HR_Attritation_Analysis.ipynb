{
 "cells": [
  {
   "cell_type": "markdown",
   "metadata": {},
   "source": [
    "# -*- coding: utf-8 -*-\n",
    "\"\"\"\n",
    "Created on Tue Feb 28"
   ]
  },
  {
   "cell_type": "markdown",
   "metadata": {},
   "source": [
    "@author: Kuldeep Kumar\n",
    "\"\"\""
   ]
  },
  {
   "cell_type": "code",
   "execution_count": 1,
   "metadata": {},
   "outputs": [],
   "source": [
    "import warnings\n",
    "warnings.filterwarnings(\"ignore\")"
   ]
  },
  {
   "cell_type": "code",
   "execution_count": null,
   "metadata": {},
   "outputs": [],
   "source": []
  },
  {
   "cell_type": "code",
   "execution_count": 2,
   "metadata": {},
   "outputs": [],
   "source": [
    "from matplotlib import pyplot\n",
    "import numpy as np\n",
    "import matplotlib.pyplot as plt\n",
    "import pandas as pd\n",
    "from sklearn import preprocessing\n",
    "from sklearn.compose import ColumnTransformer\n",
    "from sklearn.preprocessing import LabelEncoder, OneHotEncoder\n",
    "from sklearn.model_selection import train_test_split\n",
    "from sklearn.preprocessing import StandardScaler\n",
    "from sklearn.metrics import accuracy_score,jaccard_score,f1_score,log_loss,confusion_matrix\n",
    "from sklearn.metrics import confusion_matrix,classification_report\n",
    "from sklearn.neighbors import KNeighborsClassifier\n",
    "from sklearn.tree import DecisionTreeClassifier\n",
    "from sklearn.svm import SVC\n",
    "from sklearn.linear_model import LogisticRegression\n",
    "from pandas.plotting import scatter_matrix\n",
    "from sklearn.preprocessing import StandardScaler\n",
    "from sklearn.model_selection import train_test_split\n",
    "from sklearn.model_selection import KFold\n",
    "from sklearn.model_selection import cross_val_score\n",
    "from sklearn.model_selection import GridSearchCV\n",
    "from sklearn.metrics import classification_report\n",
    "from sklearn.metrics import confusion_matrix\n",
    "from sklearn.metrics import accuracy_score\n",
    "from sklearn.pipeline import Pipeline\n",
    "from sklearn.linear_model import LogisticRegression\n",
    "from sklearn.tree import DecisionTreeClassifier\n",
    "from sklearn.neighbors import KNeighborsClassifier\n",
    "from sklearn.discriminant_analysis import LinearDiscriminantAnalysis\n",
    "from sklearn.naive_bayes import GaussianNB\n",
    "from sklearn.svm import SVC\n",
    "from sklearn.linear_model import Lasso\n",
    "from sklearn.linear_model import ElasticNet\n",
    "from sklearn.ensemble import AdaBoostClassifier\n",
    "from sklearn.ensemble import GradientBoostingClassifier\n",
    "from sklearn.ensemble import RandomForestClassifier\n",
    "from sklearn.ensemble import ExtraTreesClassifier"
   ]
  },
  {
   "cell_type": "code",
   "execution_count": 3,
   "metadata": {},
   "outputs": [],
   "source": [
    "hr_df = pd.read_csv(\"WA_Fn-UseC_-HR-Employee-Attrition.csv\")"
   ]
  },
  {
   "cell_type": "code",
   "execution_count": 4,
   "metadata": {},
   "outputs": [
    {
     "name": "stdout",
     "output_type": "stream",
     "text": [
      "Look up in the data    Age Attrition     BusinessTravel  DailyRate              Department  \\\n",
      "0   41       Yes      Travel_Rarely       1102                   Sales   \n",
      "1   49        No  Travel_Frequently        279  Research & Development   \n",
      "2   37       Yes      Travel_Rarely       1373  Research & Development   \n",
      "3   33        No  Travel_Frequently       1392  Research & Development   \n",
      "4   27        No      Travel_Rarely        591  Research & Development   \n",
      "\n",
      "   DistanceFromHome  Education EducationField  EmployeeCount  EmployeeNumber  \\\n",
      "0                 1          2  Life Sciences              1               1   \n",
      "1                 8          1  Life Sciences              1               2   \n",
      "2                 2          2          Other              1               4   \n",
      "3                 3          4  Life Sciences              1               5   \n",
      "4                 2          1        Medical              1               7   \n",
      "\n",
      "   ...  RelationshipSatisfaction StandardHours  StockOptionLevel  \\\n",
      "0  ...                         1            80                 0   \n",
      "1  ...                         4            80                 1   \n",
      "2  ...                         2            80                 0   \n",
      "3  ...                         3            80                 0   \n",
      "4  ...                         4            80                 1   \n",
      "\n",
      "   TotalWorkingYears  TrainingTimesLastYear WorkLifeBalance  YearsAtCompany  \\\n",
      "0                  8                      0               1               6   \n",
      "1                 10                      3               3              10   \n",
      "2                  7                      3               3               0   \n",
      "3                  8                      3               3               8   \n",
      "4                  6                      3               3               2   \n",
      "\n",
      "  YearsInCurrentRole  YearsSinceLastPromotion  YearsWithCurrManager  \n",
      "0                  4                        0                     5  \n",
      "1                  7                        1                     7  \n",
      "2                  0                        0                     0  \n",
      "3                  7                        3                     0  \n",
      "4                  2                        2                     2  \n",
      "\n",
      "[5 rows x 35 columns]\n",
      "Describe the Data                Age    DailyRate  DistanceFromHome    Education  EmployeeCount  \\\n",
      "count  1470.000000  1470.000000       1470.000000  1470.000000         1470.0   \n",
      "mean     36.923810   802.485714          9.192517     2.912925            1.0   \n",
      "std       9.135373   403.509100          8.106864     1.024165            0.0   \n",
      "min      18.000000   102.000000          1.000000     1.000000            1.0   \n",
      "25%      30.000000   465.000000          2.000000     2.000000            1.0   \n",
      "50%      36.000000   802.000000          7.000000     3.000000            1.0   \n",
      "75%      43.000000  1157.000000         14.000000     4.000000            1.0   \n",
      "max      60.000000  1499.000000         29.000000     5.000000            1.0   \n",
      "\n",
      "       EmployeeNumber  EnvironmentSatisfaction   HourlyRate  JobInvolvement  \\\n",
      "count     1470.000000              1470.000000  1470.000000     1470.000000   \n",
      "mean      1024.865306                 2.721769    65.891156        2.729932   \n",
      "std        602.024335                 1.093082    20.329428        0.711561   \n",
      "min          1.000000                 1.000000    30.000000        1.000000   \n",
      "25%        491.250000                 2.000000    48.000000        2.000000   \n",
      "50%       1020.500000                 3.000000    66.000000        3.000000   \n",
      "75%       1555.750000                 4.000000    83.750000        3.000000   \n",
      "max       2068.000000                 4.000000   100.000000        4.000000   \n",
      "\n",
      "          JobLevel  ...  RelationshipSatisfaction  StandardHours  \\\n",
      "count  1470.000000  ...               1470.000000         1470.0   \n",
      "mean      2.063946  ...                  2.712245           80.0   \n",
      "std       1.106940  ...                  1.081209            0.0   \n",
      "min       1.000000  ...                  1.000000           80.0   \n",
      "25%       1.000000  ...                  2.000000           80.0   \n",
      "50%       2.000000  ...                  3.000000           80.0   \n",
      "75%       3.000000  ...                  4.000000           80.0   \n",
      "max       5.000000  ...                  4.000000           80.0   \n",
      "\n",
      "       StockOptionLevel  TotalWorkingYears  TrainingTimesLastYear  \\\n",
      "count       1470.000000        1470.000000            1470.000000   \n",
      "mean           0.793878          11.279592               2.799320   \n",
      "std            0.852077           7.780782               1.289271   \n",
      "min            0.000000           0.000000               0.000000   \n",
      "25%            0.000000           6.000000               2.000000   \n",
      "50%            1.000000          10.000000               3.000000   \n",
      "75%            1.000000          15.000000               3.000000   \n",
      "max            3.000000          40.000000               6.000000   \n",
      "\n",
      "       WorkLifeBalance  YearsAtCompany  YearsInCurrentRole  \\\n",
      "count      1470.000000     1470.000000         1470.000000   \n",
      "mean          2.761224        7.008163            4.229252   \n",
      "std           0.706476        6.126525            3.623137   \n",
      "min           1.000000        0.000000            0.000000   \n",
      "25%           2.000000        3.000000            2.000000   \n",
      "50%           3.000000        5.000000            3.000000   \n",
      "75%           3.000000        9.000000            7.000000   \n",
      "max           4.000000       40.000000           18.000000   \n",
      "\n",
      "       YearsSinceLastPromotion  YearsWithCurrManager  \n",
      "count              1470.000000           1470.000000  \n",
      "mean                  2.187755              4.123129  \n",
      "std                   3.222430              3.568136  \n",
      "min                   0.000000              0.000000  \n",
      "25%                   0.000000              2.000000  \n",
      "50%                   1.000000              3.000000  \n",
      "75%                   3.000000              7.000000  \n",
      "max                  15.000000             17.000000  \n",
      "\n",
      "[8 rows x 26 columns]\n"
     ]
    }
   ],
   "source": [
    "print(\"Look up in the data\",hr_df.head())\n",
    "print(\"Describe the Data\",hr_df.describe())"
   ]
  },
  {
   "cell_type": "code",
   "execution_count": 5,
   "metadata": {},
   "outputs": [
    {
     "name": "stdout",
     "output_type": "stream",
     "text": [
      "Shape of Data (1470, 35)\n",
      "\n",
      " Null Valve in dataset  Age                         0\n",
      "Attrition                   0\n",
      "BusinessTravel              0\n",
      "DailyRate                   0\n",
      "Department                  0\n",
      "DistanceFromHome            0\n",
      "Education                   0\n",
      "EducationField              0\n",
      "EmployeeCount               0\n",
      "EmployeeNumber              0\n",
      "EnvironmentSatisfaction     0\n",
      "Gender                      0\n",
      "HourlyRate                  0\n",
      "JobInvolvement              0\n",
      "JobLevel                    0\n",
      "JobRole                     0\n",
      "JobSatisfaction             0\n",
      "MaritalStatus               0\n",
      "MonthlyIncome               0\n",
      "MonthlyRate                 0\n",
      "NumCompaniesWorked          0\n",
      "Over18                      0\n",
      "OverTime                    0\n",
      "PercentSalaryHike           0\n",
      "PerformanceRating           0\n",
      "RelationshipSatisfaction    0\n",
      "StandardHours               0\n",
      "StockOptionLevel            0\n",
      "TotalWorkingYears           0\n",
      "TrainingTimesLastYear       0\n",
      "WorkLifeBalance             0\n",
      "YearsAtCompany              0\n",
      "YearsInCurrentRole          0\n",
      "YearsSinceLastPromotion     0\n",
      "YearsWithCurrManager        0\n",
      "dtype: int64\n"
     ]
    }
   ],
   "source": [
    "print(\"Shape of Data\",hr_df.shape)\n",
    "print(\"\\n Null Valve in dataset \", hr_df.isnull().sum())"
   ]
  },
  {
   "cell_type": "markdown",
   "metadata": {},
   "source": [
    "class distribution"
   ]
  },
  {
   "cell_type": "code",
   "execution_count": 6,
   "metadata": {},
   "outputs": [
    {
     "name": "stdout",
     "output_type": "stream",
     "text": [
      "Attrition\n",
      "No     1233\n",
      "Yes     237\n",
      "dtype: int64\n",
      "After classification Attrition distribution Attrition\n",
      "0    1233\n",
      "1     237\n",
      "dtype: int64\n"
     ]
    }
   ],
   "source": [
    "print(hr_df.groupby('Attrition').size())\n",
    "# Transform into binary classification\n",
    "hr_df['Attrition'] = [1 if b == 'Yes' else 0 for b in hr_df.Attrition]\n",
    "print(\"After classification Attrition distribution\",hr_df.groupby('Attrition').size())"
   ]
  },
  {
   "cell_type": "markdown",
   "metadata": {},
   "source": [
    "Convert Categorical variable into onehotencoder/dummy variables"
   ]
  },
  {
   "cell_type": "code",
   "execution_count": 7,
   "metadata": {},
   "outputs": [],
   "source": [
    "hr_df['BusinessTravel'] = pd.get_dummies(hr_df['BusinessTravel'])\n",
    "hr_df['Department'] = pd.get_dummies(hr_df['Department'])\n",
    "hr_df['EducationField'] = pd.get_dummies(hr_df['EducationField'])\n",
    "hr_df['Gender'] = pd.get_dummies(hr_df['Gender'])\n",
    "hr_df['JobRole'] = pd.get_dummies(hr_df['JobRole'])\n",
    "hr_df['MaritalStatus'] = pd.get_dummies(hr_df['MaritalStatus'])\n",
    "hr_df['OverTime'] = pd.get_dummies(hr_df['OverTime'])\n",
    "hr_df['Over18'] = pd.get_dummies(hr_df['Over18'])"
   ]
  },
  {
   "cell_type": "code",
   "execution_count": 8,
   "metadata": {},
   "outputs": [],
   "source": [
    "hr_df.to_csv(\"Afterencoding.csv\")"
   ]
  },
  {
   "cell_type": "markdown",
   "metadata": {},
   "source": [
    "Split of Data"
   ]
  },
  {
   "cell_type": "code",
   "execution_count": 9,
   "metadata": {},
   "outputs": [],
   "source": [
    "Y=hr_df.iloc[:,1]\n",
    "X=hr_df.drop(['Attrition'],axis = 1)"
   ]
  },
  {
   "cell_type": "markdown",
   "metadata": {},
   "source": [
    "Taking as nd Array"
   ]
  },
  {
   "cell_type": "code",
   "execution_count": 10,
   "metadata": {},
   "outputs": [],
   "source": [
    "dataframe=X.values\n",
    "X=dataframe[:,:]\n",
    "Y=Y.values"
   ]
  },
  {
   "cell_type": "code",
   "execution_count": 11,
   "metadata": {},
   "outputs": [
    {
     "name": "stdout",
     "output_type": "stream",
     "text": [
      "[[  41    0 1102 ...    4    0    5]\n",
      " [  49    0  279 ...    7    1    7]\n",
      " [  37    0 1373 ...    0    0    0]\n",
      " ...\n",
      " [  27    0  155 ...    2    0    3]\n",
      " [  49    0 1023 ...    6    0    8]\n",
      " [  34    0  628 ...    3    1    2]]\n",
      "[1 0 1 ... 0 0 0]\n"
     ]
    }
   ],
   "source": [
    "print(X)\n",
    "print(Y)"
   ]
  },
  {
   "cell_type": "code",
   "execution_count": 12,
   "metadata": {},
   "outputs": [],
   "source": [
    "validation_size = 0.30\n",
    "seed = 7\n",
    "X_train, X_validation, Y_train, Y_validation = train_test_split(X, Y, test_size=validation_size, random_state=seed)"
   ]
  },
  {
   "cell_type": "markdown",
   "metadata": {},
   "source": [
    "Test options and evaluation metric"
   ]
  },
  {
   "cell_type": "code",
   "execution_count": 13,
   "metadata": {},
   "outputs": [],
   "source": [
    "num_folds = 10\n",
    "seed = 7\n",
    "scoring = 'accuracy'"
   ]
  },
  {
   "cell_type": "markdown",
   "metadata": {},
   "source": [
    "Spot-Check Algorithms"
   ]
  },
  {
   "cell_type": "code",
   "execution_count": 14,
   "metadata": {},
   "outputs": [],
   "source": [
    "models = []\n",
    "models.append(('LR', LogisticRegression()))\n",
    "models.append(('LDA', LinearDiscriminantAnalysis()))\n",
    "models.append(('KNN', KNeighborsClassifier()))\n",
    "models.append(('CART', DecisionTreeClassifier()))\n",
    "models.append(('NB', GaussianNB()))\n",
    "models.append(('SVM', SVC()))"
   ]
  },
  {
   "cell_type": "markdown",
   "metadata": {},
   "source": [
    "evaluate each model in turn"
   ]
  },
  {
   "cell_type": "code",
   "execution_count": 15,
   "metadata": {},
   "outputs": [
    {
     "name": "stdout",
     "output_type": "stream",
     "text": [
      "LR: 0.840605 (0.045434)\n",
      "LDA: 0.858129 (0.033068)\n",
      "KNN: 0.812421 (0.053604)\n",
      "CART: 0.761879 (0.034720)\n",
      "NB: 0.700761 (0.068227)\n",
      "SVM: 0.837683 (0.043309)\n"
     ]
    }
   ],
   "source": [
    "results = []\n",
    "names = []\n",
    "for name, model in models:\n",
    "    kfold = KFold(n_splits=num_folds, random_state=seed,shuffle=True)\n",
    "    cv_results = cross_val_score(model, X_train, Y_train, cv=kfold, scoring=scoring)\n",
    "    results.append(cv_results)\n",
    "    names.append(name)\n",
    "    msg = \"%s: %f (%f)\" % (name, cv_results.mean(), cv_results.std())\n",
    "    print(msg)"
   ]
  },
  {
   "cell_type": "markdown",
   "metadata": {},
   "source": [
    "Compare Algorithms"
   ]
  },
  {
   "cell_type": "code",
   "execution_count": 16,
   "metadata": {},
   "outputs": [
    {
     "data": {
      "image/png": "[encoded data removed]",
      "text/plain": [
       "<Figure size 432x288 with 1 Axes>"
      ]
     },
     "metadata": {
      "needs_background": "light"
     },
     "output_type": "display_data"
    }
   ],
   "source": [
    "fig = pyplot.figure()\n",
    "fig.suptitle('Algorithm Comparison')\n",
    "ax = fig.add_subplot(111)\n",
    "pyplot.boxplot(results)\n",
    "ax.set_xticklabels(names)\n",
    "pyplot.show()"
   ]
  },
  {
   "cell_type": "markdown",
   "metadata": {},
   "source": [
    "Standardize the dataset"
   ]
  },
  {
   "cell_type": "code",
   "execution_count": 17,
   "metadata": {},
   "outputs": [],
   "source": [
    "pipelines = []\n",
    "pipelines.append(('ScaledLR', Pipeline([('Scaler', StandardScaler()),('LR',LogisticRegression())])))\n",
    "pipelines.append(('ScaledLDA', Pipeline([('Scaler', StandardScaler()),('LDA',LinearDiscriminantAnalysis())])))\n",
    "pipelines.append(('ScaledKNN', Pipeline([('Scaler', StandardScaler()),('KNN',KNeighborsClassifier())])))\n",
    "pipelines.append(('ScaledCART', Pipeline([('Scaler', StandardScaler()),('CART',DecisionTreeClassifier())])))\n",
    "pipelines.append(('ScaledNB', Pipeline([('Scaler', StandardScaler()),('NB',GaussianNB())])))\n",
    "pipelines.append(('ScaledSVM', Pipeline([('Scaler', StandardScaler()),('SVM', SVC())])))"
   ]
  },
  {
   "cell_type": "code",
   "execution_count": 18,
   "metadata": {},
   "outputs": [
    {
     "name": "stdout",
     "output_type": "stream",
     "text": [
      "ScaledLR: 0.863935 (0.034505)\n",
      "ScaledLDA: 0.858129 (0.033068)\n",
      "ScaledKNN: 0.838683 (0.041672)\n",
      "ScaledCART: 0.762907 (0.036975)\n",
      "ScaledNB: 0.687112 (0.054175)\n",
      "ScaledSVM: 0.852275 (0.036569)\n"
     ]
    }
   ],
   "source": [
    "results = []\n",
    "names = []\n",
    "for name, model in pipelines:\n",
    "    kfold = KFold(n_splits=num_folds, random_state=seed,shuffle=True)\n",
    "    cv_results = cross_val_score(model, X_train, Y_train, cv=kfold, scoring=scoring)\n",
    "    results.append(cv_results)\n",
    "    names.append(name)\n",
    "    msg = \"%s: %f (%f)\" % (name, cv_results.mean(), cv_results.std())\n",
    "    print(msg)"
   ]
  },
  {
   "cell_type": "markdown",
   "metadata": {},
   "source": [
    "Compare Algorithms"
   ]
  },
  {
   "cell_type": "code",
   "execution_count": 19,
   "metadata": {},
   "outputs": [
    {
     "data": {
      "image/png": "[encoded data removed]",
      "text/plain": [
       "<Figure size 432x288 with 1 Axes>"
      ]
     },
     "metadata": {
      "needs_background": "light"
     },
     "output_type": "display_data"
    }
   ],
   "source": [
    "fig = pyplot.figure()\n",
    "fig.suptitle('Scaled Algorithm Comparison')\n",
    "ax = fig.add_subplot(111)\n",
    "pyplot.boxplot(results)\n",
    "ax.set_xticklabels(names)\n",
    "pyplot.show()"
   ]
  },
  {
   "cell_type": "code",
   "execution_count": 20,
   "metadata": {},
   "outputs": [],
   "source": [
    "scaler = StandardScaler().fit(X_train)\n",
    "rescaledX = scaler.transform(X_train)\n",
    "#k_values = np.array([0.05,0.1,0.2,0.3,0.4])\n",
    "# Create regularization penalty space\n",
    "penalty = ['l1', 'l2']\n",
    "# Create regularization hyperparameter spac\n",
    "C = np.logspace(0,4,10)\n",
    "# Create hyperparameter options\n",
    "hyperparameters = dict(C=C, penalty=penalty)\n",
    "model = LogisticRegression()"
   ]
  },
  {
   "cell_type": "markdown",
   "metadata": {},
   "source": [
    "Create grid search using 5-fold cross validation"
   ]
  },
  {
   "cell_type": "code",
   "execution_count": 21,
   "metadata": {},
   "outputs": [],
   "source": [
    "grid = GridSearchCV(model, hyperparameters, cv=5, verbose=0)\n",
    "grid_result = grid.fit(rescaledX, Y_train)\n",
    "y_pred = grid_result.predict(X_validation)"
   ]
  },
  {
   "cell_type": "code",
   "execution_count": 22,
   "metadata": {},
   "outputs": [
    {
     "name": "stdout",
     "output_type": "stream",
     "text": [
      "Best: 0.869780 using {'C': 1.0, 'penalty': 'l2'}\n",
      "mean, Standard Deviation and params nan (nan) with: {'C': 1.0, 'penalty': 'l1'}\n",
      "mean, Standard Deviation and params 0.869780 (0.003507) with: {'C': 1.0, 'penalty': 'l2'}\n",
      "mean, Standard Deviation and params nan (nan) with: {'C': 2.7825594022071245, 'penalty': 'l1'}\n",
      "mean, Standard Deviation and params 0.866862 (0.006552) with: {'C': 2.7825594022071245, 'penalty': 'l2'}\n",
      "mean, Standard Deviation and params nan (nan) with: {'C': 7.742636826811269, 'penalty': 'l1'}\n",
      "mean, Standard Deviation and params 0.866862 (0.006552) with: {'C': 7.742636826811269, 'penalty': 'l2'}\n",
      "mean, Standard Deviation and params nan (nan) with: {'C': 21.544346900318832, 'penalty': 'l1'}\n",
      "mean, Standard Deviation and params 0.866862 (0.008980) with: {'C': 21.544346900318832, 'penalty': 'l2'}\n",
      "mean, Standard Deviation and params nan (nan) with: {'C': 59.94842503189409, 'penalty': 'l1'}\n",
      "mean, Standard Deviation and params 0.866862 (0.008980) with: {'C': 59.94842503189409, 'penalty': 'l2'}\n",
      "mean, Standard Deviation and params nan (nan) with: {'C': 166.81005372000593, 'penalty': 'l1'}\n",
      "mean, Standard Deviation and params 0.866862 (0.008980) with: {'C': 166.81005372000593, 'penalty': 'l2'}\n",
      "mean, Standard Deviation and params nan (nan) with: {'C': 464.15888336127773, 'penalty': 'l1'}\n",
      "mean, Standard Deviation and params 0.866862 (0.008980) with: {'C': 464.15888336127773, 'penalty': 'l2'}\n",
      "mean, Standard Deviation and params nan (nan) with: {'C': 1291.5496650148827, 'penalty': 'l1'}\n",
      "mean, Standard Deviation and params 0.866862 (0.008980) with: {'C': 1291.5496650148827, 'penalty': 'l2'}\n",
      "mean, Standard Deviation and params nan (nan) with: {'C': 3593.813663804626, 'penalty': 'l1'}\n",
      "mean, Standard Deviation and params 0.866862 (0.008980) with: {'C': 3593.813663804626, 'penalty': 'l2'}\n",
      "mean, Standard Deviation and params nan (nan) with: {'C': 10000.0, 'penalty': 'l1'}\n",
      "mean, Standard Deviation and params 0.866862 (0.008980) with: {'C': 10000.0, 'penalty': 'l2'}\n",
      "Accuracy 84.13%\n",
      "[[371   0]\n",
      " [ 70   0]]\n",
      "              precision    recall  f1-score   support\n",
      "\n",
      "           0       0.84      1.00      0.91       371\n",
      "           1       0.00      0.00      0.00        70\n",
      "\n",
      "    accuracy                           0.84       441\n",
      "   macro avg       0.42      0.50      0.46       441\n",
      "weighted avg       0.71      0.84      0.77       441\n",
      "\n"
     ]
    }
   ],
   "source": [
    "print(\"Best: %f using %s\" % (grid_result.best_score_, grid_result.best_params_))\n",
    "means = grid_result.cv_results_['mean_test_score']\n",
    "stds = grid_result.cv_results_['std_test_score']\n",
    "params = grid_result.cv_results_['params']\n",
    "for mean, stdev, param in zip(means, stds, params):\n",
    "    print(\"mean, Standard Deviation and params %f (%f) with: %r\" % (mean, stdev, param))\n",
    "print(\"Accuracy {0:.2f}%\".format(100*accuracy_score(y_pred, Y_validation)))\n",
    "print(confusion_matrix(Y_validation, y_pred))\n",
    "print(classification_report(Y_validation, y_pred))\n",
    "#Output after tunning is\n",
    "#Best: 0.869780 using {'C': 1.0, 'penalty': 'l2'}\n",
    "#mean, Standard Deviation and params nan (nan) with: {'C': 1.0, 'penalty': 'l1'}\n",
    "#mean, Standard Deviation and params 0.869780 (0.003507) with: {'C': 1.0, 'penalty': 'l2'}\n",
    "#mean, Standard Deviation and params nan (nan) with: {'C': 2.7825594022071245, 'penalty': 'l1'}\n",
    "#mean, Standard Deviation and params 0.866862 (0.006552) with: {'C': 2.7825594022071245, 'penalty': 'l2'}\n",
    "#mean, Standard Deviation and params nan (nan) with: {'C': 7.742636826811269, 'penalty': 'l1'}\n",
    "#mean, Standard Deviation and params 0.866862 (0.006552) with: {'C': 7.742636826811269, 'penalty': 'l2'}\n",
    "#mean, Standard Deviation and params nan (nan) with: {'C': 21.544346900318832, 'penalty': 'l1'}\n",
    "#mean, Standard Deviation and params 0.866862 (0.008980) with: {'C': 21.544346900318832, 'penalty': 'l2'}\n",
    "#mean, Standard Deviation and params nan (nan) with: {'C': 59.94842503189409, 'penalty': 'l1'}\n",
    "#mean, Standard Deviation and params 0.866862 (0.008980) with: {'C': 59.94842503189409, 'penalty': 'l2'}\n",
    "#mean, Standard Deviation and params nan (nan) with: {'C': 166.81005372000593, 'penalty': 'l1'}\n",
    "#mean, Standard Deviation and params 0.866862 (0.008980) with: {'C': 166.81005372000593, 'penalty': 'l2'}\n",
    "#mean, Standard Deviation and params nan (nan) with: {'C': 464.15888336127773, 'penalty': 'l1'}\n",
    "#mean, Standard Deviation and params 0.866862 (0.008980) with: {'C': 464.15888336127773, 'penalty': 'l2'}\n",
    "#mean, Standard Deviation and params nan (nan) with: {'C': 1291.5496650148827, 'penalty': 'l1'}\n",
    "#mean, Standard Deviation and params 0.866862 (0.008980) with: {'C': 1291.5496650148827, 'penalty': 'l2'}\n",
    "#mean, Standard Deviation and params nan (nan) with: {'C': 3593.813663804626, 'penalty': 'l1'}\n",
    "#mean, Standard Deviation and params 0.866862 (0.008980) with: {'C': 3593.813663804626, 'penalty': 'l2'}\n",
    "#mean, Standard Deviation and params nan (nan) with: {'C': 10000.0, 'penalty': 'l1'}\n",
    "#mean, Standard Deviation and params 0.866862 (0.008980) with: {'C': 10000.0, 'penalty': 'l2'}"
   ]
  },
  {
   "cell_type": "markdown",
   "metadata": {},
   "source": [
    "Output of confusion Matrix"
   ]
  },
  {
   "cell_type": "markdown",
   "metadata": {},
   "source": [
    "ccuracy 84.13%<br>\n",
    "[371   0]<br>\n",
    "[ 70   0]]"
   ]
  },
  {
   "cell_type": "code",
   "execution_count": 23,
   "metadata": {},
   "outputs": [],
   "source": [
    " #             precision    recall  f1-score   support\n",
    "#\n",
    "#           0       0.84      1.00      0.91       371\n",
    "#           1       0.00      0.00      0.00        70"
   ]
  },
  {
   "cell_type": "markdown",
   "metadata": {},
   "source": [
    "  accuracy                           0.84       441<br>\n",
    "  macro avg       0.42      0.50      0.46       441<br>\n",
    "weighted avg       0.71      0.84      0.77       441"
   ]
  },
  {
   "cell_type": "code",
   "execution_count": null,
   "metadata": {},
   "outputs": [],
   "source": []
  }
 ],
 "metadata": {
  "kernelspec": {
   "display_name": "Python 3",
   "language": "python",
   "name": "python3"
  },
  "language_info": {
   "codemirror_mode": {
    "name": "ipython",
    "version": 3
   },
   "file_extension": ".py",
   "mimetype": "text/x-python",
   "name": "python",
   "nbconvert_exporter": "python",
   "pygments_lexer": "ipython3",
   "version": "3.8.5"
  }
 },
 "nbformat": 4,
 "nbformat_minor": 2
}
