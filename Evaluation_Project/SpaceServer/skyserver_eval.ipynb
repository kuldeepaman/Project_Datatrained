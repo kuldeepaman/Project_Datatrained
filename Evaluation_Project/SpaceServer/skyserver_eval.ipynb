{
 "cells": [
  {
   "cell_type": "markdown",
   "metadata": {},
   "source": [
    "# -*- coding: utf-8 -*-\n",
    "\"\"\"\n",
    "#Created on 2nd march"
   ]
  },
  {
   "cell_type": "markdown",
   "metadata": {},
   "source": [
    "@author: Kuldeep\n",
    "\"\"\"\n",
    "# Load Libraries"
   ]
  },
  {
   "cell_type": "code",
   "execution_count": 2,
   "metadata": {},
   "outputs": [],
   "source": [
    "import os\n",
    "import numpy as np\n",
    "import pandas as pd\n",
    "from matplotlib import pyplot\n",
    "import seaborn as sns\n",
    "import matplotlib.pyplot as plt\n",
    "from sklearn.model_selection import train_test_split\n",
    "from sklearn.preprocessing import LabelEncoder\n",
    "from sklearn.preprocessing import StandardScaler\n",
    "from sklearn.model_selection import train_test_split\n",
    "from sklearn.model_selection import KFold\n",
    "from sklearn.model_selection import cross_val_score\n",
    "from sklearn.model_selection import GridSearchCV\n",
    "from sklearn.metrics import accuracy_score\n",
    "from sklearn.pipeline import Pipeline\n",
    "from sklearn.linear_model import LogisticRegression\n",
    "from sklearn.tree import DecisionTreeClassifier\n",
    "from sklearn.neighbors import KNeighborsClassifier\n",
    "from sklearn.discriminant_analysis import LinearDiscriminantAnalysis\n",
    "from sklearn.naive_bayes import GaussianNB\n",
    "from sklearn.svm import SVC\n",
    "from sklearn.ensemble import AdaBoostClassifier, ExtraTreesClassifier\n",
    "from sklearn.ensemble import GradientBoostingClassifier\n",
    "from sklearn.ensemble import RandomForestClassifier\n",
    "from sklearn.metrics import classification_report, confusion_matrix\n",
    "from sklearn import preprocessing\n",
    "#import graphviz\n",
    "import warnings\n",
    "warnings.filterwarnings(\"ignore\")"
   ]
  },
  {
   "cell_type": "markdown",
   "metadata": {},
   "source": [
    "Import the dataset"
   ]
  },
  {
   "cell_type": "code",
   "execution_count": 3,
   "metadata": {},
   "outputs": [],
   "source": [
    "df = pd.read_csv(\"Skyserver.csv\")"
   ]
  },
  {
   "cell_type": "markdown",
   "metadata": {},
   "source": [
    "Have a look into data"
   ]
  },
  {
   "cell_type": "code",
   "execution_count": 4,
   "metadata": {},
   "outputs": [
    {
     "name": "stdout",
     "output_type": "stream",
     "text": [
      "\n",
      " Have a look into records           objid          ra       dec         u         g         r         i  \\\n",
      "0  1.237650e+18  183.531326  0.089693  19.47406  17.04240  15.94699  15.50342   \n",
      "1  1.237650e+18  183.598371  0.135285  18.66280  17.21449  16.67637  16.48922   \n",
      "2  1.237650e+18  183.680207  0.126185  19.38298  18.19169  17.47428  17.08732   \n",
      "3  1.237650e+18  183.870529  0.049911  17.76536  16.60272  16.16116  15.98233   \n",
      "4  1.237650e+18  183.883288  0.102557  17.55025  16.26342  16.43869  16.55492   \n",
      "5  1.237650e+18  183.847174  0.173694  19.43133  18.46779  18.16451  18.01475   \n",
      "6  1.237650e+18  183.864379  0.019201  19.38322  17.88995  17.10537  16.66393   \n",
      "7  1.237650e+18  183.900081  0.187473  18.97993  17.84496  17.38022  17.20673   \n",
      "8  1.237650e+18  183.924588  0.097246  17.90616  16.97172  16.67541  16.53776   \n",
      "9  1.237650e+18  183.973498  0.081626  18.67249  17.71375  17.49362  17.28284   \n",
      "\n",
      "          z  run  rerun  camcol  field     specobjid   class  redshift  plate  \\\n",
      "0  15.22531  752    301       4    267  3.722360e+18    STAR -0.000009   3306   \n",
      "1  16.39150  752    301       4    267  3.638140e+17    STAR -0.000055    323   \n",
      "2  16.80125  752    301       4    268  3.232740e+17  GALAXY  0.123111    287   \n",
      "3  15.90438  752    301       4    269  3.722370e+18    STAR -0.000111   3306   \n",
      "4  16.61326  752    301       4    269  3.722370e+18    STAR  0.000590   3306   \n",
      "5  18.04155  752    301       4    269  3.649550e+17    STAR  0.000315    324   \n",
      "6  16.36955  752    301       4    269  3.232870e+17  GALAXY  0.100242    287   \n",
      "7  17.07071  752    301       4    269  3.722370e+18    STAR  0.000315   3306   \n",
      "8  16.47596  752    301       4    270  3.638290e+17    STAR  0.000089    323   \n",
      "9  17.22644  752    301       4    270  3.243690e+17  GALAXY  0.040508    288   \n",
      "\n",
      "     mjd  fiberid  \n",
      "0  54922      491  \n",
      "1  51615      541  \n",
      "2  52023      513  \n",
      "3  54922      510  \n",
      "4  54922      512  \n",
      "5  51666      594  \n",
      "6  52023      559  \n",
      "7  54922      515  \n",
      "8  51615      595  \n",
      "9  52000      400  \n"
     ]
    }
   ],
   "source": [
    "print(\"\\n Have a look into records\", df.head(10))"
   ]
  },
  {
   "cell_type": "markdown",
   "metadata": {},
   "source": [
    "column and data type"
   ]
  },
  {
   "cell_type": "code",
   "execution_count": 5,
   "metadata": {},
   "outputs": [
    {
     "name": "stdout",
     "output_type": "stream",
     "text": [
      "<class 'pandas.core.frame.DataFrame'>\n",
      "RangeIndex: 10000 entries, 0 to 9999\n",
      "Data columns (total 18 columns):\n",
      " #   Column     Non-Null Count  Dtype  \n",
      "---  ------     --------------  -----  \n",
      " 0   objid      10000 non-null  float64\n",
      " 1   ra         10000 non-null  float64\n",
      " 2   dec        10000 non-null  float64\n",
      " 3   u          10000 non-null  float64\n",
      " 4   g          10000 non-null  float64\n",
      " 5   r          10000 non-null  float64\n",
      " 6   i          10000 non-null  float64\n",
      " 7   z          10000 non-null  float64\n",
      " 8   run        10000 non-null  int64  \n",
      " 9   rerun      10000 non-null  int64  \n",
      " 10  camcol     10000 non-null  int64  \n",
      " 11  field      10000 non-null  int64  \n",
      " 12  specobjid  10000 non-null  float64\n",
      " 13  class      10000 non-null  object \n",
      " 14  redshift   10000 non-null  float64\n",
      " 15  plate      10000 non-null  int64  \n",
      " 16  mjd        10000 non-null  int64  \n",
      " 17  fiberid    10000 non-null  int64  \n",
      "dtypes: float64(10), int64(7), object(1)\n",
      "memory usage: 1.4+ MB\n",
      "\n",
      " Column and Data Type None\n"
     ]
    }
   ],
   "source": [
    "print(\"\\n Column and Data Type\", df.info())"
   ]
  },
  {
   "cell_type": "markdown",
   "metadata": {},
   "source": [
    "shape of data type"
   ]
  },
  {
   "cell_type": "code",
   "execution_count": 6,
   "metadata": {},
   "outputs": [
    {
     "name": "stdout",
     "output_type": "stream",
     "text": [
      "\n",
      " Shape of Dataset (10000, 18)\n"
     ]
    }
   ],
   "source": [
    "print(\"\\n Shape of Dataset\", df.shape)"
   ]
  },
  {
   "cell_type": "markdown",
   "metadata": {},
   "source": [
    "stats of dataset"
   ]
  },
  {
   "cell_type": "code",
   "execution_count": 7,
   "metadata": {},
   "outputs": [
    {
     "name": "stdout",
     "output_type": "stream",
     "text": [
      "\n",
      " Describe the Data                objid            ra           dec             u             g  \\\n",
      "count  1.000000e+04  10000.000000  10000.000000  10000.000000  10000.000000   \n",
      "mean   1.237650e+18    175.529987     14.836148     18.619355     17.371931   \n",
      "std    1.577039e+05     47.783439     25.212207      0.828656      0.945457   \n",
      "min    1.237650e+18      8.235100     -5.382632     12.988970     12.799550   \n",
      "25%    1.237650e+18    157.370946     -0.539035     18.178035     16.815100   \n",
      "50%    1.237650e+18    180.394514      0.404166     18.853095     17.495135   \n",
      "75%    1.237650e+18    201.547279     35.649397     19.259232     18.010145   \n",
      "max    1.237650e+18    260.884382     68.542265     19.599900     19.918970   \n",
      "\n",
      "                  r             i             z           run    rerun  \\\n",
      "count  10000.000000  10000.000000  10000.000000  10000.000000  10000.0   \n",
      "mean      16.840963     16.583579     16.422833    981.034800    301.0   \n",
      "std        1.067764      1.141805      1.203188    273.305024      0.0   \n",
      "min       12.431600     11.947210     11.610410    308.000000    301.0   \n",
      "25%       16.173333     15.853705     15.618285    752.000000    301.0   \n",
      "50%       16.858770     16.554985     16.389945    756.000000    301.0   \n",
      "75%       17.512675     17.258550     17.141447   1331.000000    301.0   \n",
      "max       24.802040     28.179630     22.833060   1412.000000    301.0   \n",
      "\n",
      "             camcol         field     specobjid      redshift         plate  \\\n",
      "count  10000.000000  10000.000000  1.000000e+04  10000.000000  10000.000000   \n",
      "mean       3.648700    302.380100  1.645022e+18      0.143726   1460.986400   \n",
      "std        1.666183    162.577763  2.013998e+18      0.388774   1788.778371   \n",
      "min        1.000000     11.000000  2.995780e+17     -0.004136    266.000000   \n",
      "25%        2.000000    184.000000  3.389248e+17      0.000081    301.000000   \n",
      "50%        4.000000    299.000000  4.966580e+17      0.042591    441.000000   \n",
      "75%        5.000000    414.000000  2.881300e+18      0.092579   2559.000000   \n",
      "max        6.000000    768.000000  9.468830e+18      5.353854   8410.000000   \n",
      "\n",
      "                mjd       fiberid  \n",
      "count  10000.000000  10000.000000  \n",
      "mean   52943.533300    353.069400  \n",
      "std     1511.150651    206.298149  \n",
      "min    51578.000000      1.000000  \n",
      "25%    51900.000000    186.750000  \n",
      "50%    51997.000000    351.000000  \n",
      "75%    54468.000000    510.000000  \n",
      "max    57481.000000   1000.000000  \n"
     ]
    }
   ],
   "source": [
    "print(\"\\n Describe the Data \", df.describe())"
   ]
  },
  {
   "cell_type": "markdown",
   "metadata": {},
   "source": [
    "validate class is having only two attribute"
   ]
  },
  {
   "cell_type": "code",
   "execution_count": 8,
   "metadata": {},
   "outputs": [
    {
     "name": "stdout",
     "output_type": "stream",
     "text": [
      "\n",
      " Unique value in Class  ['STAR' 'GALAXY' 'QSO']\n"
     ]
    }
   ],
   "source": [
    "print(\"\\n Unique value in Class \", df[\"class\"].unique())"
   ]
  },
  {
   "cell_type": "markdown",
   "metadata": {},
   "source": [
    "Class distribution for e and p"
   ]
  },
  {
   "cell_type": "code",
   "execution_count": 9,
   "metadata": {},
   "outputs": [
    {
     "name": "stdout",
     "output_type": "stream",
     "text": [
      "\n",
      " Count of the class  GALAXY    4998\n",
      "STAR      4152\n",
      "QSO        850\n",
      "Name: class, dtype: int64\n"
     ]
    }
   ],
   "source": [
    "print(\"\\n Count of the class \", df['class'].value_counts())"
   ]
  },
  {
   "cell_type": "code",
   "execution_count": 10,
   "metadata": {},
   "outputs": [],
   "source": [
    "nan_in_df = df.isnull().values.sum()"
   ]
  },
  {
   "cell_type": "markdown",
   "metadata": {},
   "source": [
    "Print the dataframe for NAN"
   ]
  },
  {
   "cell_type": "code",
   "execution_count": 11,
   "metadata": {},
   "outputs": [
    {
     "name": "stdout",
     "output_type": "stream",
     "text": [
      "Null value in input column 0\n"
     ]
    }
   ],
   "source": [
    "print(\"Null value in input column\",nan_in_df)"
   ]
  },
  {
   "cell_type": "code",
   "execution_count": 12,
   "metadata": {},
   "outputs": [
    {
     "name": "stdout",
     "output_type": "stream",
     "text": [
      "Null in feature column 0\n"
     ]
    }
   ],
   "source": [
    "print(\"Null in feature column\",df['class'].isnull().values.sum())"
   ]
  },
  {
   "cell_type": "markdown",
   "metadata": {},
   "source": [
    "class distribution"
   ]
  },
  {
   "cell_type": "code",
   "execution_count": 13,
   "metadata": {},
   "outputs": [
    {
     "name": "stdout",
     "output_type": "stream",
     "text": [
      "class\n",
      "GALAXY    4998\n",
      "QSO        850\n",
      "STAR      4152\n",
      "dtype: int64\n"
     ]
    }
   ],
   "source": [
    "print(df.groupby('class').size())"
   ]
  },
  {
   "cell_type": "markdown",
   "metadata": {},
   "source": [
    "Unimodal Data Visualizations"
   ]
  },
  {
   "cell_type": "code",
   "execution_count": 19,
   "metadata": {},
   "outputs": [],
   "source": [
    "#histograms()\n",
    "#df.hist(sharex=False, sharey=False, xlabelsize=1, ylabelsize=1)\n",
    "#pyplot.show()"
   ]
  },
  {
   "cell_type": "markdown",
   "metadata": {},
   "source": []
  },
  {
   "cell_type": "markdown",
   "metadata": {},
   "source": [
    "Here we create a dictionary which will map Class to numeric form and then replace it. Star will become 1 and so on."
   ]
  },
  {
   "cell_type": "code",
   "execution_count": 20,
   "metadata": {},
   "outputs": [
    {
     "data": {
      "text/html": [
       "<div>\n",
       "<style scoped>\n",
       "    .dataframe tbody tr th:only-of-type {\n",
       "        vertical-align: middle;\n",
       "    }\n",
       "\n",
       "    .dataframe tbody tr th {\n",
       "        vertical-align: top;\n",
       "    }\n",
       "\n",
       "    .dataframe thead th {\n",
       "        text-align: right;\n",
       "    }\n",
       "</style>\n",
       "<table border=\"1\" class=\"dataframe\">\n",
       "  <thead>\n",
       "    <tr style=\"text-align: right;\">\n",
       "      <th></th>\n",
       "      <th>objid</th>\n",
       "      <th>ra</th>\n",
       "      <th>dec</th>\n",
       "      <th>u</th>\n",
       "      <th>g</th>\n",
       "      <th>r</th>\n",
       "      <th>i</th>\n",
       "      <th>z</th>\n",
       "      <th>run</th>\n",
       "      <th>rerun</th>\n",
       "      <th>camcol</th>\n",
       "      <th>field</th>\n",
       "      <th>specobjid</th>\n",
       "      <th>class</th>\n",
       "      <th>redshift</th>\n",
       "      <th>plate</th>\n",
       "      <th>mjd</th>\n",
       "      <th>fiberid</th>\n",
       "    </tr>\n",
       "  </thead>\n",
       "  <tbody>\n",
       "    <tr>\n",
       "      <th>0</th>\n",
       "      <td>1.237650e+18</td>\n",
       "      <td>183.531326</td>\n",
       "      <td>0.089693</td>\n",
       "      <td>19.47406</td>\n",
       "      <td>17.04240</td>\n",
       "      <td>15.94699</td>\n",
       "      <td>15.50342</td>\n",
       "      <td>15.22531</td>\n",
       "      <td>752</td>\n",
       "      <td>301</td>\n",
       "      <td>4</td>\n",
       "      <td>267</td>\n",
       "      <td>3.722360e+18</td>\n",
       "      <td>1</td>\n",
       "      <td>-0.000009</td>\n",
       "      <td>3306</td>\n",
       "      <td>54922</td>\n",
       "      <td>491</td>\n",
       "    </tr>\n",
       "    <tr>\n",
       "      <th>1</th>\n",
       "      <td>1.237650e+18</td>\n",
       "      <td>183.598371</td>\n",
       "      <td>0.135285</td>\n",
       "      <td>18.66280</td>\n",
       "      <td>17.21449</td>\n",
       "      <td>16.67637</td>\n",
       "      <td>16.48922</td>\n",
       "      <td>16.39150</td>\n",
       "      <td>752</td>\n",
       "      <td>301</td>\n",
       "      <td>4</td>\n",
       "      <td>267</td>\n",
       "      <td>3.638140e+17</td>\n",
       "      <td>1</td>\n",
       "      <td>-0.000055</td>\n",
       "      <td>323</td>\n",
       "      <td>51615</td>\n",
       "      <td>541</td>\n",
       "    </tr>\n",
       "    <tr>\n",
       "      <th>2</th>\n",
       "      <td>1.237650e+18</td>\n",
       "      <td>183.680207</td>\n",
       "      <td>0.126185</td>\n",
       "      <td>19.38298</td>\n",
       "      <td>18.19169</td>\n",
       "      <td>17.47428</td>\n",
       "      <td>17.08732</td>\n",
       "      <td>16.80125</td>\n",
       "      <td>752</td>\n",
       "      <td>301</td>\n",
       "      <td>4</td>\n",
       "      <td>268</td>\n",
       "      <td>3.232740e+17</td>\n",
       "      <td>2</td>\n",
       "      <td>0.123111</td>\n",
       "      <td>287</td>\n",
       "      <td>52023</td>\n",
       "      <td>513</td>\n",
       "    </tr>\n",
       "    <tr>\n",
       "      <th>3</th>\n",
       "      <td>1.237650e+18</td>\n",
       "      <td>183.870529</td>\n",
       "      <td>0.049911</td>\n",
       "      <td>17.76536</td>\n",
       "      <td>16.60272</td>\n",
       "      <td>16.16116</td>\n",
       "      <td>15.98233</td>\n",
       "      <td>15.90438</td>\n",
       "      <td>752</td>\n",
       "      <td>301</td>\n",
       "      <td>4</td>\n",
       "      <td>269</td>\n",
       "      <td>3.722370e+18</td>\n",
       "      <td>1</td>\n",
       "      <td>-0.000111</td>\n",
       "      <td>3306</td>\n",
       "      <td>54922</td>\n",
       "      <td>510</td>\n",
       "    </tr>\n",
       "    <tr>\n",
       "      <th>4</th>\n",
       "      <td>1.237650e+18</td>\n",
       "      <td>183.883288</td>\n",
       "      <td>0.102557</td>\n",
       "      <td>17.55025</td>\n",
       "      <td>16.26342</td>\n",
       "      <td>16.43869</td>\n",
       "      <td>16.55492</td>\n",
       "      <td>16.61326</td>\n",
       "      <td>752</td>\n",
       "      <td>301</td>\n",
       "      <td>4</td>\n",
       "      <td>269</td>\n",
       "      <td>3.722370e+18</td>\n",
       "      <td>1</td>\n",
       "      <td>0.000590</td>\n",
       "      <td>3306</td>\n",
       "      <td>54922</td>\n",
       "      <td>512</td>\n",
       "    </tr>\n",
       "  </tbody>\n",
       "</table>\n",
       "</div>"
      ],
      "text/plain": [
       "          objid          ra       dec         u         g         r         i  \\\n",
       "0  1.237650e+18  183.531326  0.089693  19.47406  17.04240  15.94699  15.50342   \n",
       "1  1.237650e+18  183.598371  0.135285  18.66280  17.21449  16.67637  16.48922   \n",
       "2  1.237650e+18  183.680207  0.126185  19.38298  18.19169  17.47428  17.08732   \n",
       "3  1.237650e+18  183.870529  0.049911  17.76536  16.60272  16.16116  15.98233   \n",
       "4  1.237650e+18  183.883288  0.102557  17.55025  16.26342  16.43869  16.55492   \n",
       "\n",
       "          z  run  rerun  camcol  field     specobjid  class  redshift  plate  \\\n",
       "0  15.22531  752    301       4    267  3.722360e+18      1 -0.000009   3306   \n",
       "1  16.39150  752    301       4    267  3.638140e+17      1 -0.000055    323   \n",
       "2  16.80125  752    301       4    268  3.232740e+17      2  0.123111    287   \n",
       "3  15.90438  752    301       4    269  3.722370e+18      1 -0.000111   3306   \n",
       "4  16.61326  752    301       4    269  3.722370e+18      1  0.000590   3306   \n",
       "\n",
       "     mjd  fiberid  \n",
       "0  54922      491  \n",
       "1  51615      541  \n",
       "2  52023      513  \n",
       "3  54922      510  \n",
       "4  54922      512  "
      ]
     },
     "execution_count": 20,
     "metadata": {},
     "output_type": "execute_result"
    }
   ],
   "source": [
    "dictionary={'STAR':1,'GALAXY':2,'QSO':3}\n",
    "df.replace({'class':dictionary},inplace=True)\n",
    "df.head()"
   ]
  },
  {
   "cell_type": "code",
   "execution_count": 21,
   "metadata": {},
   "outputs": [],
   "source": [
    "array = df.values\n",
    "#Y = array['class']\n",
    "#X=array.drop(['class'],axis = 1)\n",
    "Y = df['class']\n",
    "X=df.drop(['class'],axis = 1)"
   ]
  },
  {
   "cell_type": "markdown",
   "metadata": {},
   "source": [
    "use LabelEncoder here also\n",
    "It can also be used to transform non-numerical labels (as long as they are hashable and comparable) to numerical labels.class distribution"
   ]
  },
  {
   "cell_type": "markdown",
   "metadata": {},
   "source": [
    "# Validation Dataset"
   ]
  },
  {
   "cell_type": "code",
   "execution_count": 22,
   "metadata": {},
   "outputs": [],
   "source": [
    "validation_size = 0.20\n",
    "seed = 7\n",
    "X_train, X_validation, Y_train, Y_validation = train_test_split(X, Y,test_size=validation_size, random_state=seed)"
   ]
  },
  {
   "cell_type": "markdown",
   "metadata": {},
   "source": [
    "Test options and evaluation metric"
   ]
  },
  {
   "cell_type": "code",
   "execution_count": 23,
   "metadata": {},
   "outputs": [],
   "source": [
    "num_folds = 10\n",
    "seed = 7\n",
    "scoring = 'accuracy'"
   ]
  },
  {
   "cell_type": "markdown",
   "metadata": {},
   "source": [
    "Spot-Check Algorithms"
   ]
  },
  {
   "cell_type": "code",
   "execution_count": 24,
   "metadata": {},
   "outputs": [],
   "source": [
    "models = []\n",
    "models.append(('LR', LogisticRegression()))\n",
    "models.append(('LDA', LinearDiscriminantAnalysis()))\n",
    "models.append(('KNN', KNeighborsClassifier()))\n",
    "models.append(('CART', DecisionTreeClassifier()))\n",
    "models.append(('NB', GaussianNB()))\n",
    "models.append(('SVM', SVC()))"
   ]
  },
  {
   "cell_type": "code",
   "execution_count": 25,
   "metadata": {},
   "outputs": [
    {
     "name": "stdout",
     "output_type": "stream",
     "text": [
      "LR: 0.414750 (0.016824)\n",
      "LDA: 0.919250 (0.010296)\n",
      "KNN: 0.773625 (0.014963)\n",
      "CART: 0.983875 (0.004346)\n",
      "NB: 0.797000 (0.012314)\n",
      "SVM: 0.797250 (0.012296)\n"
     ]
    }
   ],
   "source": [
    "results = []\n",
    "names = []\n",
    "for name, model in models:\n",
    "    kfold = KFold(n_splits=num_folds, random_state=seed,shuffle=True)\n",
    "    cv_results = cross_val_score(model, X_train, Y_train, cv=kfold, scoring=scoring)\n",
    "    results.append(cv_results)\n",
    "    names.append(name)\n",
    "    msg = \"%s: %f (%f)\" % (name, cv_results.mean(), cv_results.std())\n",
    "    print(msg)"
   ]
  },
  {
   "cell_type": "markdown",
   "metadata": {},
   "source": [
    "Compare Algorithms"
   ]
  },
  {
   "cell_type": "code",
   "execution_count": 26,
   "metadata": {},
   "outputs": [
    {
     "data": {
      "image/png": "[encoded data removed]",
      "text/plain": [
       "<Figure size 432x288 with 1 Axes>"
      ]
     },
     "metadata": {
      "needs_background": "light"
     },
     "output_type": "display_data"
    }
   ],
   "source": [
    "fig = pyplot.figure()\n",
    "fig.suptitle('Algorithm Comparison')\n",
    "ax = fig.add_subplot(111)\n",
    "pyplot.boxplot(results)\n",
    "ax.set_xticklabels(names)\n",
    "pyplot.show()"
   ]
  },
  {
   "cell_type": "markdown",
   "metadata": {},
   "source": [
    "Evaluate Algorithms: Standardize/Normalize data"
   ]
  },
  {
   "cell_type": "markdown",
   "metadata": {},
   "source": [
    "to avoid data leakage when we transform the data. A good way to avoid leakage is to use pipelines<br>\n",
    "that standardize the data and build the # model for each fold in the cross-validation test harness.<br>\n",
    "That way we can get a fair estimation of how each model with standardized data might perform on unseen data."
   ]
  },
  {
   "cell_type": "markdown",
   "metadata": {},
   "source": [
    "Standardize the dataset"
   ]
  },
  {
   "cell_type": "code",
   "execution_count": 27,
   "metadata": {},
   "outputs": [],
   "source": [
    "pipelines = []\n",
    "pipelines.append(('ScaledLR', Pipeline([('Scaler', StandardScaler()),('LR', LogisticRegression())])))\n",
    "pipelines.append(('ScaledLDA', Pipeline([('Scaler', StandardScaler()),('LDA', LinearDiscriminantAnalysis())])))\n",
    "pipelines.append(('ScaledKNN', Pipeline([('Scaler', StandardScaler()),('KNN', KNeighborsClassifier())])))\n",
    "pipelines.append(('ScaledCART', Pipeline([('Scaler', StandardScaler()),('CART', DecisionTreeClassifier())])))\n",
    "pipelines.append(('ScaledNB', Pipeline([('Scaler', StandardScaler()),('NB', GaussianNB())])))\n",
    "pipelines.append(('ScaledSVM', Pipeline([('Scaler', StandardScaler()),('SVM', SVC())])))\n",
    "results = []\n",
    "names = []"
   ]
  },
  {
   "cell_type": "code",
   "execution_count": 28,
   "metadata": {},
   "outputs": [
    {
     "name": "stdout",
     "output_type": "stream",
     "text": [
      "ScaledLR: 0.976750 (0.005624)\n",
      "ScaledLDA: 0.910500 (0.011541)\n",
      "ScaledKNN: 0.906125 (0.010023)\n",
      "ScaledCART: 0.984250 (0.004409)\n",
      "ScaledNB: 0.945625 (0.012045)\n",
      "ScaledSVM: 0.953750 (0.007984)\n"
     ]
    },
    {
     "data": {
      "image/png": "[encoded data removed]",
      "text/plain": [
       "<Figure size 432x288 with 1 Axes>"
      ]
     },
     "metadata": {
      "needs_background": "light"
     },
     "output_type": "display_data"
    }
   ],
   "source": [
    "for name, model in pipelines:\n",
    "    kfold = KFold(n_splits=num_folds, random_state=seed,shuffle=True)\n",
    "    cv_results = cross_val_score(model, X_train, Y_train, cv=kfold, scoring=scoring)\n",
    "    results.append(cv_results)\n",
    "    names.append(name)\n",
    "    msg = \"%s: %f (%f)\" % (name, cv_results.mean(), cv_results.std())\n",
    "    print(msg)\n",
    "    \n",
    "    \n",
    "# Compare Algorithms\n",
    "fig = pyplot.figure()\n",
    "fig.suptitle('Scaled Algorithm Comparison')\n",
    "ax = fig.add_subplot(111)\n",
    "pyplot.boxplot(results)\n",
    "ax.set_xticklabels(names)\n",
    "pyplot.show()"
   ]
  },
  {
   "cell_type": "markdown",
   "metadata": {},
   "source": [
    "After investigate tuning the parameters for two algorithms that show promise from<br>\n",
    "In the spot-checking highest score is for  "
   ]
  },
  {
   "cell_type": "markdown",
   "metadata": {},
   "source": [
    "Tuning KNN"
   ]
  },
  {
   "cell_type": "markdown",
   "metadata": {},
   "source": [
    "Tune scaled KNN"
   ]
  },
  {
   "cell_type": "code",
   "execution_count": 29,
   "metadata": {},
   "outputs": [
    {
     "name": "stdout",
     "output_type": "stream",
     "text": [
      "Best: 0.907875 using {'n_neighbors': 3}\n",
      "0.902875 (0.016687) with: {'n_neighbors': 1}\n",
      "0.907875 (0.011055) with: {'n_neighbors': 3}\n",
      "0.906375 (0.010177) with: {'n_neighbors': 5}\n",
      "0.903000 (0.010756) with: {'n_neighbors': 7}\n",
      "0.899875 (0.011060) with: {'n_neighbors': 9}\n",
      "0.898125 (0.012428) with: {'n_neighbors': 11}\n",
      "0.896375 (0.011367) with: {'n_neighbors': 13}\n",
      "0.895500 (0.012577) with: {'n_neighbors': 15}\n",
      "0.894250 (0.011702) with: {'n_neighbors': 17}\n",
      "0.891875 (0.012263) with: {'n_neighbors': 19}\n",
      "0.889500 (0.012750) with: {'n_neighbors': 21}\n"
     ]
    }
   ],
   "source": [
    "scaler = StandardScaler().fit(X_train)\n",
    "rescaledX = scaler.transform(X_train)\n",
    "neighbors = [1,3,5,7,9,11,13,15,17,19,21]\n",
    "param_grid = dict(n_neighbors=neighbors)\n",
    "model = KNeighborsClassifier()\n",
    "kfold = KFold(n_splits=num_folds, random_state=seed,shuffle=True)\n",
    "grid = GridSearchCV(estimator=model, param_grid=param_grid, scoring=scoring, cv=kfold)\n",
    "grid_result = grid.fit(rescaledX, Y_train)\n",
    "print(\"Best: %f using %s\" % (grid_result.best_score_, grid_result.best_params_))\n",
    "means = grid_result.cv_results_['mean_test_score']\n",
    "stds = grid_result.cv_results_['std_test_score']\n",
    "params = grid_result.cv_results_['params']\n",
    "for mean, stdev, param in zip(means, stds, params):\n",
    "    print(\"%f (%f) with: %r\" % (mean, stdev, param))"
   ]
  },
  {
   "cell_type": "markdown",
   "metadata": {},
   "source": [
    "Output after tunning of KNN"
   ]
  },
  {
   "cell_type": "markdown",
   "metadata": {},
   "source": [
    "Tuning SVM"
   ]
  },
  {
   "cell_type": "markdown",
   "metadata": {},
   "source": [
    "Tune scaled SVM"
   ]
  },
  {
   "cell_type": "code",
   "execution_count": 30,
   "metadata": {},
   "outputs": [
    {
     "name": "stdout",
     "output_type": "stream",
     "text": [
      "Best: 0.987750 using {'C': 2.0, 'kernel': 'linear'}\n",
      "0.974125 (0.003493) with: {'C': 0.1, 'kernel': 'linear'}\n",
      "0.881625 (0.014642) with: {'C': 0.1, 'kernel': 'poly'}\n",
      "0.893000 (0.014374) with: {'C': 0.1, 'kernel': 'rbf'}\n",
      "0.848500 (0.013084) with: {'C': 0.1, 'kernel': 'sigmoid'}\n",
      "0.980125 (0.004453) with: {'C': 0.3, 'kernel': 'linear'}\n",
      "0.902000 (0.012018) with: {'C': 0.3, 'kernel': 'poly'}\n",
      "0.917625 (0.011187) with: {'C': 0.3, 'kernel': 'rbf'}\n",
      "0.820125 (0.016483) with: {'C': 0.3, 'kernel': 'sigmoid'}\n",
      "0.982375 (0.004791) with: {'C': 0.5, 'kernel': 'linear'}\n",
      "0.913125 (0.010771) with: {'C': 0.5, 'kernel': 'poly'}\n",
      "0.930625 (0.010281) with: {'C': 0.5, 'kernel': 'rbf'}\n",
      "0.811000 (0.018369) with: {'C': 0.5, 'kernel': 'sigmoid'}\n",
      "0.983750 (0.004183) with: {'C': 0.7, 'kernel': 'linear'}\n",
      "0.917875 (0.011512) with: {'C': 0.7, 'kernel': 'poly'}\n",
      "0.941375 (0.008704) with: {'C': 0.7, 'kernel': 'rbf'}\n",
      "0.807250 (0.018378) with: {'C': 0.7, 'kernel': 'sigmoid'}\n",
      "0.984375 (0.004977) with: {'C': 0.9, 'kernel': 'linear'}\n",
      "0.921875 (0.010066) with: {'C': 0.9, 'kernel': 'poly'}\n",
      "0.949875 (0.009609) with: {'C': 0.9, 'kernel': 'rbf'}\n",
      "0.807875 (0.017836) with: {'C': 0.9, 'kernel': 'sigmoid'}\n",
      "0.985000 (0.004809) with: {'C': 1.0, 'kernel': 'linear'}\n",
      "0.923500 (0.010808) with: {'C': 1.0, 'kernel': 'poly'}\n",
      "0.954000 (0.007842) with: {'C': 1.0, 'kernel': 'rbf'}\n",
      "0.803250 (0.018125) with: {'C': 1.0, 'kernel': 'sigmoid'}\n",
      "0.986750 (0.004301) with: {'C': 1.3, 'kernel': 'linear'}\n",
      "0.928375 (0.009667) with: {'C': 1.3, 'kernel': 'poly'}\n",
      "0.962500 (0.006519) with: {'C': 1.3, 'kernel': 'rbf'}\n",
      "0.802500 (0.017722) with: {'C': 1.3, 'kernel': 'sigmoid'}\n",
      "0.987250 (0.004500) with: {'C': 1.5, 'kernel': 'linear'}\n",
      "0.931750 (0.010580) with: {'C': 1.5, 'kernel': 'poly'}\n",
      "0.965500 (0.005280) with: {'C': 1.5, 'kernel': 'rbf'}\n",
      "0.800750 (0.017159) with: {'C': 1.5, 'kernel': 'sigmoid'}\n",
      "0.987625 (0.004237) with: {'C': 1.7, 'kernel': 'linear'}\n",
      "0.933625 (0.010390) with: {'C': 1.7, 'kernel': 'poly'}\n",
      "0.966000 (0.004899) with: {'C': 1.7, 'kernel': 'rbf'}\n",
      "0.800375 (0.015503) with: {'C': 1.7, 'kernel': 'sigmoid'}\n",
      "0.987750 (0.004062) with: {'C': 2.0, 'kernel': 'linear'}\n",
      "0.938500 (0.009679) with: {'C': 2.0, 'kernel': 'poly'}\n",
      "0.966875 (0.005789) with: {'C': 2.0, 'kernel': 'rbf'}\n",
      "0.801000 (0.015720) with: {'C': 2.0, 'kernel': 'sigmoid'}\n"
     ]
    }
   ],
   "source": [
    "scaler = StandardScaler().fit(X_train)\n",
    "rescaledX = scaler.transform(X_train)\n",
    "c_values = [0.1, 0.3, 0.5, 0.7, 0.9, 1.0, 1.3, 1.5, 1.7, 2.0]\n",
    "kernel_values = ['linear', 'poly', 'rbf', 'sigmoid']\n",
    "param_grid = dict(C=c_values, kernel=kernel_values)\n",
    "model = SVC()\n",
    "kfold = KFold(n_splits=num_folds, random_state=seed,shuffle=True)\n",
    "grid = GridSearchCV(estimator=model, param_grid=param_grid, scoring=scoring, cv=kfold)\n",
    "grid_result = grid.fit(rescaledX, Y_train)\n",
    "print(\"Best: %f using %s\" % (grid_result.best_score_, grid_result.best_params_))\n",
    "means = grid_result.cv_results_['mean_test_score']\n",
    "stds = grid_result.cv_results_['std_test_score']\n",
    "params = grid_result.cv_results_['params']\n",
    "for mean, stdev, param in zip(means, stds, params):\n",
    "    print(\"%f (%f) with: %r\" % (mean, stdev, param))\n",
    "  \n",
    "    \n",
    "# #########Ensemble Methods###########"
   ]
  },
  {
   "cell_type": "markdown",
   "metadata": {},
   "source": [
    "evaluate four different ensemble machine learning<br>\n",
    "algorithms, two boosting and two bagging methods:<br>\n",
    "1. Boosting Methods: AdaBoost (AB) and Gradient Boosting (GBM).<br>\n",
    "2. Bagging Methods: Random Forests (RF) and Extra Trees (ET)."
   ]
  },
  {
   "cell_type": "markdown",
   "metadata": {},
   "source": [
    "ensembles"
   ]
  },
  {
   "cell_type": "code",
   "execution_count": 31,
   "metadata": {},
   "outputs": [
    {
     "name": "stdout",
     "output_type": "stream",
     "text": [
      "AB: 0.680625 (0.181888)\n",
      "GBM: 0.990250 (0.002947)\n",
      "RF: 0.989625 (0.003625)\n",
      "ET: 0.982250 (0.003437)\n"
     ]
    }
   ],
   "source": [
    "ensembles = []\n",
    "ensembles.append(('AB', AdaBoostClassifier()))\n",
    "ensembles.append(('GBM', GradientBoostingClassifier()))\n",
    "ensembles.append(('RF', RandomForestClassifier()))\n",
    "ensembles.append(('ET', ExtraTreesClassifier()))\n",
    "results = []\n",
    "names = []\n",
    "for name, model in ensembles:\n",
    "    kfold = KFold(n_splits=num_folds, random_state=seed,shuffle=True)\n",
    "    cv_results = cross_val_score(model, X_train, Y_train, cv=kfold, scoring=scoring)\n",
    "    results.append(cv_results)\n",
    "    names.append(name)\n",
    "    msg = \"%s: %f (%f)\" % (name, cv_results.mean(), cv_results.std())\n",
    "    print(msg)\n",
    "# Output is"
   ]
  },
  {
   "cell_type": "markdown",
   "metadata": {},
   "source": [
    "Finalize model<br>\n",
    "SVM showed the most promise as a low complexity and stable model for this problem. In<br>\n",
    "so Finalize the model by training it on the entire training dataset and make<br>\n",
    "predictions for the hold-out validation dataset to confirm"
   ]
  },
  {
   "cell_type": "markdown",
   "metadata": {},
   "source": [
    "prepare the model"
   ]
  },
  {
   "cell_type": "code",
   "execution_count": 32,
   "metadata": {},
   "outputs": [
    {
     "name": "stdout",
     "output_type": "stream",
     "text": [
      "0.965\n",
      "[[817  17   0]\n",
      " [ 35 947   5]\n",
      " [  1  12 166]]\n",
      "              precision    recall  f1-score   support\n",
      "\n",
      "           1       0.96      0.98      0.97       834\n",
      "           2       0.97      0.96      0.96       987\n",
      "           3       0.97      0.93      0.95       179\n",
      "\n",
      "    accuracy                           0.96      2000\n",
      "   macro avg       0.97      0.96      0.96      2000\n",
      "weighted avg       0.97      0.96      0.96      2000\n",
      "\n"
     ]
    }
   ],
   "source": [
    "scaler = StandardScaler().fit(X_train)\n",
    "rescaledX = scaler.transform(X_train)\n",
    "model = SVC(C=1.5)\n",
    "model.fit(rescaledX, Y_train)\n",
    "# estimate accuracy on validation dataset\n",
    "rescaledValidationX = scaler.transform(X_validation)\n",
    "predictions = model.predict(rescaledValidationX)\n",
    "print(accuracy_score(Y_validation, predictions))\n",
    "print(confusion_matrix(Y_validation, predictions))\n",
    "print(classification_report(Y_validation, predictions))"
   ]
  },
  {
   "cell_type": "code",
   "execution_count": null,
   "metadata": {},
   "outputs": [],
   "source": []
  }
 ],
 "metadata": {
  "kernelspec": {
   "display_name": "Python 3",
   "language": "python",
   "name": "python3"
  },
  "language_info": {
   "codemirror_mode": {
    "name": "ipython",
    "version": 3
   },
   "file_extension": ".py",
   "mimetype": "text/x-python",
   "name": "python",
   "nbconvert_exporter": "python",
   "pygments_lexer": "ipython3",
   "version": "3.8.5"
  }
 },
 "nbformat": 4,
 "nbformat_minor": 2
}
